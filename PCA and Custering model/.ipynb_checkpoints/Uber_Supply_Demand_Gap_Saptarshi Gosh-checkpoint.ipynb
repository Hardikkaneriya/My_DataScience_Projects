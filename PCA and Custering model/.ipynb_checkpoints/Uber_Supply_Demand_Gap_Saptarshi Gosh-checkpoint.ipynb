{
 "cells": [
  {
   "cell_type": "code",
   "execution_count": 1,
   "metadata": {},
   "outputs": [],
   "source": [
    "# Supress Warnings\n",
    "\n",
    "import warnings\n",
    "warnings.filterwarnings('ignore')"
   ]
  },
  {
   "cell_type": "code",
   "execution_count": 2,
   "metadata": {},
   "outputs": [],
   "source": [
    "# Import the numpy, pandas, datetime, matplotlib, & seaborn packages\n",
    "\n",
    "import numpy as np\n",
    "import pandas as pd\n",
    "import datetime\n",
    "import matplotlib.pyplot as plt\n",
    "import seaborn as sns\n",
    "sns.set_style('whitegrid')"
   ]
  },
  {
   "cell_type": "markdown",
   "metadata": {},
   "source": [
    "### Data Sourcing and Data Cleaning ...\n",
    "\n",
    "Read the uber data, inspect, clean and manipulate the data .."
   ]
  },
  {
   "cell_type": "code",
   "execution_count": 3,
   "metadata": {},
   "outputs": [
    {
     "data": {
      "text/html": [
       "<div>\n",
       "<style scoped>\n",
       "    .dataframe tbody tr th:only-of-type {\n",
       "        vertical-align: middle;\n",
       "    }\n",
       "\n",
       "    .dataframe tbody tr th {\n",
       "        vertical-align: top;\n",
       "    }\n",
       "\n",
       "    .dataframe thead th {\n",
       "        text-align: right;\n",
       "    }\n",
       "</style>\n",
       "<table border=\"1\" class=\"dataframe\">\n",
       "  <thead>\n",
       "    <tr style=\"text-align: right;\">\n",
       "      <th></th>\n",
       "      <th>Request id</th>\n",
       "      <th>Pickup point</th>\n",
       "      <th>Driver id</th>\n",
       "      <th>Status</th>\n",
       "      <th>Request timestamp</th>\n",
       "      <th>Drop timestamp</th>\n",
       "    </tr>\n",
       "  </thead>\n",
       "  <tbody>\n",
       "    <tr>\n",
       "      <th>0</th>\n",
       "      <td>619</td>\n",
       "      <td>Airport</td>\n",
       "      <td>1.0</td>\n",
       "      <td>Trip Completed</td>\n",
       "      <td>2016-07-11 11:51:00</td>\n",
       "      <td>2016-07-11 13:00:00</td>\n",
       "    </tr>\n",
       "    <tr>\n",
       "      <th>1</th>\n",
       "      <td>867</td>\n",
       "      <td>Airport</td>\n",
       "      <td>1.0</td>\n",
       "      <td>Trip Completed</td>\n",
       "      <td>2016-07-11 17:57:00</td>\n",
       "      <td>2016-07-11 18:47:00</td>\n",
       "    </tr>\n",
       "    <tr>\n",
       "      <th>2</th>\n",
       "      <td>1807</td>\n",
       "      <td>City</td>\n",
       "      <td>1.0</td>\n",
       "      <td>Trip Completed</td>\n",
       "      <td>2016-07-12 09:17:00</td>\n",
       "      <td>2016-07-12 09:58:00</td>\n",
       "    </tr>\n",
       "    <tr>\n",
       "      <th>3</th>\n",
       "      <td>2532</td>\n",
       "      <td>Airport</td>\n",
       "      <td>1.0</td>\n",
       "      <td>Trip Completed</td>\n",
       "      <td>2016-07-12 21:08:00</td>\n",
       "      <td>2016-07-12 22:03:00</td>\n",
       "    </tr>\n",
       "    <tr>\n",
       "      <th>4</th>\n",
       "      <td>3112</td>\n",
       "      <td>City</td>\n",
       "      <td>1.0</td>\n",
       "      <td>Trip Completed</td>\n",
       "      <td>2016-07-13 08:33:16</td>\n",
       "      <td>2016-07-13 09:25:47</td>\n",
       "    </tr>\n",
       "    <tr>\n",
       "      <th>5</th>\n",
       "      <td>3879</td>\n",
       "      <td>Airport</td>\n",
       "      <td>1.0</td>\n",
       "      <td>Trip Completed</td>\n",
       "      <td>2016-07-13 21:57:28</td>\n",
       "      <td>2016-07-13 22:28:59</td>\n",
       "    </tr>\n",
       "    <tr>\n",
       "      <th>6</th>\n",
       "      <td>4270</td>\n",
       "      <td>Airport</td>\n",
       "      <td>1.0</td>\n",
       "      <td>Trip Completed</td>\n",
       "      <td>2016-07-14 06:15:32</td>\n",
       "      <td>2016-07-14 07:13:15</td>\n",
       "    </tr>\n",
       "    <tr>\n",
       "      <th>7</th>\n",
       "      <td>5510</td>\n",
       "      <td>Airport</td>\n",
       "      <td>1.0</td>\n",
       "      <td>Trip Completed</td>\n",
       "      <td>2016-07-15 05:11:52</td>\n",
       "      <td>2016-07-15 06:07:52</td>\n",
       "    </tr>\n",
       "    <tr>\n",
       "      <th>8</th>\n",
       "      <td>6248</td>\n",
       "      <td>City</td>\n",
       "      <td>1.0</td>\n",
       "      <td>Trip Completed</td>\n",
       "      <td>2016-07-15 17:57:27</td>\n",
       "      <td>2016-07-15 18:50:51</td>\n",
       "    </tr>\n",
       "    <tr>\n",
       "      <th>9</th>\n",
       "      <td>267</td>\n",
       "      <td>City</td>\n",
       "      <td>2.0</td>\n",
       "      <td>Trip Completed</td>\n",
       "      <td>2016-07-11 06:46:00</td>\n",
       "      <td>2016-07-11 07:25:00</td>\n",
       "    </tr>\n",
       "    <tr>\n",
       "      <th>10</th>\n",
       "      <td>1467</td>\n",
       "      <td>Airport</td>\n",
       "      <td>2.0</td>\n",
       "      <td>Trip Completed</td>\n",
       "      <td>2016-07-12 05:08:00</td>\n",
       "      <td>2016-07-12 06:02:00</td>\n",
       "    </tr>\n",
       "    <tr>\n",
       "      <th>11</th>\n",
       "      <td>1983</td>\n",
       "      <td>City</td>\n",
       "      <td>2.0</td>\n",
       "      <td>Trip Completed</td>\n",
       "      <td>2016-07-12 12:30:00</td>\n",
       "      <td>2016-07-12 12:57:00</td>\n",
       "    </tr>\n",
       "    <tr>\n",
       "      <th>12</th>\n",
       "      <td>2784</td>\n",
       "      <td>Airport</td>\n",
       "      <td>2.0</td>\n",
       "      <td>Trip Completed</td>\n",
       "      <td>2016-07-13 04:49:20</td>\n",
       "      <td>2016-07-13 05:23:03</td>\n",
       "    </tr>\n",
       "    <tr>\n",
       "      <th>13</th>\n",
       "      <td>3075</td>\n",
       "      <td>City</td>\n",
       "      <td>2.0</td>\n",
       "      <td>Trip Completed</td>\n",
       "      <td>2016-07-13 08:02:53</td>\n",
       "      <td>2016-07-13 09:16:19</td>\n",
       "    </tr>\n",
       "    <tr>\n",
       "      <th>14</th>\n",
       "      <td>3379</td>\n",
       "      <td>City</td>\n",
       "      <td>2.0</td>\n",
       "      <td>Trip Completed</td>\n",
       "      <td>2016-07-13 14:23:02</td>\n",
       "      <td>2016-07-13 15:35:18</td>\n",
       "    </tr>\n",
       "    <tr>\n",
       "      <th>15</th>\n",
       "      <td>3482</td>\n",
       "      <td>Airport</td>\n",
       "      <td>2.0</td>\n",
       "      <td>Trip Completed</td>\n",
       "      <td>2016-07-13 17:23:18</td>\n",
       "      <td>2016-07-13 18:20:51</td>\n",
       "    </tr>\n",
       "    <tr>\n",
       "      <th>16</th>\n",
       "      <td>4652</td>\n",
       "      <td>City</td>\n",
       "      <td>2.0</td>\n",
       "      <td>Trip Completed</td>\n",
       "      <td>2016-07-14 12:01:02</td>\n",
       "      <td>2016-07-14 12:36:46</td>\n",
       "    </tr>\n",
       "    <tr>\n",
       "      <th>17</th>\n",
       "      <td>5335</td>\n",
       "      <td>Airport</td>\n",
       "      <td>2.0</td>\n",
       "      <td>Trip Completed</td>\n",
       "      <td>2016-07-14 22:24:13</td>\n",
       "      <td>2016-07-14 23:18:52</td>\n",
       "    </tr>\n",
       "    <tr>\n",
       "      <th>18</th>\n",
       "      <td>535</td>\n",
       "      <td>Airport</td>\n",
       "      <td>3.0</td>\n",
       "      <td>Trip Completed</td>\n",
       "      <td>2016-07-11 10:00:00</td>\n",
       "      <td>2016-07-11 10:31:00</td>\n",
       "    </tr>\n",
       "    <tr>\n",
       "      <th>19</th>\n",
       "      <td>960</td>\n",
       "      <td>Airport</td>\n",
       "      <td>3.0</td>\n",
       "      <td>Trip Completed</td>\n",
       "      <td>2016-07-11 18:45:00</td>\n",
       "      <td>2016-07-11 19:23:00</td>\n",
       "    </tr>\n",
       "  </tbody>\n",
       "</table>\n",
       "</div>"
      ],
      "text/plain": [
       "    Request id Pickup point  Driver id          Status   Request timestamp  \\\n",
       "0          619      Airport        1.0  Trip Completed 2016-07-11 11:51:00   \n",
       "1          867      Airport        1.0  Trip Completed 2016-07-11 17:57:00   \n",
       "2         1807         City        1.0  Trip Completed 2016-07-12 09:17:00   \n",
       "3         2532      Airport        1.0  Trip Completed 2016-07-12 21:08:00   \n",
       "4         3112         City        1.0  Trip Completed 2016-07-13 08:33:16   \n",
       "5         3879      Airport        1.0  Trip Completed 2016-07-13 21:57:28   \n",
       "6         4270      Airport        1.0  Trip Completed 2016-07-14 06:15:32   \n",
       "7         5510      Airport        1.0  Trip Completed 2016-07-15 05:11:52   \n",
       "8         6248         City        1.0  Trip Completed 2016-07-15 17:57:27   \n",
       "9          267         City        2.0  Trip Completed 2016-07-11 06:46:00   \n",
       "10        1467      Airport        2.0  Trip Completed 2016-07-12 05:08:00   \n",
       "11        1983         City        2.0  Trip Completed 2016-07-12 12:30:00   \n",
       "12        2784      Airport        2.0  Trip Completed 2016-07-13 04:49:20   \n",
       "13        3075         City        2.0  Trip Completed 2016-07-13 08:02:53   \n",
       "14        3379         City        2.0  Trip Completed 2016-07-13 14:23:02   \n",
       "15        3482      Airport        2.0  Trip Completed 2016-07-13 17:23:18   \n",
       "16        4652         City        2.0  Trip Completed 2016-07-14 12:01:02   \n",
       "17        5335      Airport        2.0  Trip Completed 2016-07-14 22:24:13   \n",
       "18         535      Airport        3.0  Trip Completed 2016-07-11 10:00:00   \n",
       "19         960      Airport        3.0  Trip Completed 2016-07-11 18:45:00   \n",
       "\n",
       "        Drop timestamp  \n",
       "0  2016-07-11 13:00:00  \n",
       "1  2016-07-11 18:47:00  \n",
       "2  2016-07-12 09:58:00  \n",
       "3  2016-07-12 22:03:00  \n",
       "4  2016-07-13 09:25:47  \n",
       "5  2016-07-13 22:28:59  \n",
       "6  2016-07-14 07:13:15  \n",
       "7  2016-07-15 06:07:52  \n",
       "8  2016-07-15 18:50:51  \n",
       "9  2016-07-11 07:25:00  \n",
       "10 2016-07-12 06:02:00  \n",
       "11 2016-07-12 12:57:00  \n",
       "12 2016-07-13 05:23:03  \n",
       "13 2016-07-13 09:16:19  \n",
       "14 2016-07-13 15:35:18  \n",
       "15 2016-07-13 18:20:51  \n",
       "16 2016-07-14 12:36:46  \n",
       "17 2016-07-14 23:18:52  \n",
       "18 2016-07-11 10:31:00  \n",
       "19 2016-07-11 19:23:00  "
      ]
     },
     "execution_count": 3,
     "metadata": {},
     "output_type": "execute_result"
    }
   ],
   "source": [
    "# Read the uber data in to a dataframe. \n",
    "# Convert the date fields to date time and since the date in the source data has different formats and it is possible for the \n",
    "# day and month to be interchanged , have specified dayfirst to True.\n",
    "\n",
    "uber = pd.read_csv('Uber Request Data.csv', parse_dates=[\n",
    "                'Request timestamp','Drop timestamp'], dayfirst=True)\n",
    "uber.head(20)"
   ]
  },
  {
   "cell_type": "code",
   "execution_count": 4,
   "metadata": {},
   "outputs": [
    {
     "name": "stdout",
     "output_type": "stream",
     "text": [
      "*********************************  Info *******************************************\n",
      "<class 'pandas.core.frame.DataFrame'>\n",
      "RangeIndex: 6745 entries, 0 to 6744\n",
      "Data columns (total 6 columns):\n",
      "Request id           6745 non-null int64\n",
      "Pickup point         6745 non-null object\n",
      "Driver id            4095 non-null float64\n",
      "Status               6745 non-null object\n",
      "Request timestamp    6745 non-null datetime64[ns]\n",
      "Drop timestamp       2831 non-null datetime64[ns]\n",
      "dtypes: datetime64[ns](2), float64(1), int64(1), object(2)\n",
      "memory usage: 316.2+ KB\n",
      "None\n",
      "*********************************  Shape ******************************************\n",
      "(6745, 6)\n",
      "**************************** Columns having null values *****************************\n",
      "Request id           False\n",
      "Pickup point         False\n",
      "Driver id             True\n",
      "Status               False\n",
      "Request timestamp    False\n",
      "Drop timestamp        True\n",
      "dtype: bool\n",
      "**************************** Describe *****************************\n"
     ]
    },
    {
     "data": {
      "text/html": [
       "<div>\n",
       "<style scoped>\n",
       "    .dataframe tbody tr th:only-of-type {\n",
       "        vertical-align: middle;\n",
       "    }\n",
       "\n",
       "    .dataframe tbody tr th {\n",
       "        vertical-align: top;\n",
       "    }\n",
       "\n",
       "    .dataframe thead th {\n",
       "        text-align: right;\n",
       "    }\n",
       "</style>\n",
       "<table border=\"1\" class=\"dataframe\">\n",
       "  <thead>\n",
       "    <tr style=\"text-align: right;\">\n",
       "      <th></th>\n",
       "      <th>Request id</th>\n",
       "      <th>Driver id</th>\n",
       "    </tr>\n",
       "  </thead>\n",
       "  <tbody>\n",
       "    <tr>\n",
       "      <th>count</th>\n",
       "      <td>6745.000000</td>\n",
       "      <td>4095.000000</td>\n",
       "    </tr>\n",
       "    <tr>\n",
       "      <th>mean</th>\n",
       "      <td>3384.644922</td>\n",
       "      <td>149.501343</td>\n",
       "    </tr>\n",
       "    <tr>\n",
       "      <th>std</th>\n",
       "      <td>1955.099667</td>\n",
       "      <td>86.051994</td>\n",
       "    </tr>\n",
       "    <tr>\n",
       "      <th>min</th>\n",
       "      <td>1.000000</td>\n",
       "      <td>1.000000</td>\n",
       "    </tr>\n",
       "    <tr>\n",
       "      <th>25%</th>\n",
       "      <td>1691.000000</td>\n",
       "      <td>75.000000</td>\n",
       "    </tr>\n",
       "    <tr>\n",
       "      <th>50%</th>\n",
       "      <td>3387.000000</td>\n",
       "      <td>149.000000</td>\n",
       "    </tr>\n",
       "    <tr>\n",
       "      <th>75%</th>\n",
       "      <td>5080.000000</td>\n",
       "      <td>224.000000</td>\n",
       "    </tr>\n",
       "    <tr>\n",
       "      <th>max</th>\n",
       "      <td>6766.000000</td>\n",
       "      <td>300.000000</td>\n",
       "    </tr>\n",
       "  </tbody>\n",
       "</table>\n",
       "</div>"
      ],
      "text/plain": [
       "        Request id    Driver id\n",
       "count  6745.000000  4095.000000\n",
       "mean   3384.644922   149.501343\n",
       "std    1955.099667    86.051994\n",
       "min       1.000000     1.000000\n",
       "25%    1691.000000    75.000000\n",
       "50%    3387.000000   149.000000\n",
       "75%    5080.000000   224.000000\n",
       "max    6766.000000   300.000000"
      ]
     },
     "execution_count": 4,
     "metadata": {},
     "output_type": "execute_result"
    }
   ],
   "source": [
    "# inspect uber dataframe\n",
    "#\n",
    "\n",
    "print(\"*********************************  Info *******************************************\") \n",
    "print(uber.info())\n",
    "print(\"*********************************  Shape ******************************************\") \n",
    "print(uber.shape)\n",
    "print(\"**************************** Columns having null values *****************************\")\n",
    "print(uber.isnull().any())\n",
    "print(\"**************************** Describe *****************************\")\n",
    "uber.describe()"
   ]
  },
  {
   "cell_type": "code",
   "execution_count": 5,
   "metadata": {},
   "outputs": [
    {
     "name": "stdout",
     "output_type": "stream",
     "text": [
      "<class 'pandas.core.frame.DataFrame'>\n",
      "RangeIndex: 6745 entries, 0 to 6744\n",
      "Data columns (total 6 columns):\n",
      "Request id           6745 non-null int64\n",
      "Pickup point         6745 non-null object\n",
      "Driver id            6745 non-null int32\n",
      "Status               6745 non-null object\n",
      "Request timestamp    6745 non-null datetime64[ns]\n",
      "Drop timestamp       2831 non-null datetime64[ns]\n",
      "dtypes: datetime64[ns](2), int32(1), int64(1), object(2)\n",
      "memory usage: 289.9+ KB\n"
     ]
    }
   ],
   "source": [
    "# Convert driver id field to int from float and replacing the nan values to 0.This field will not be used for any computation and\n",
    "# hence no harm in imputing the values to 0.\n",
    "\n",
    "# NOT SURE IF THIS NEEDS TO BE DONE COZ WE WUD NOT BE USING DRIVER ID FIELD ANYWAYS\n",
    "\n",
    "uber['Driver id'] = uber[['Driver id']].fillna(0).astype(int)\n",
    "uber.info()"
   ]
  },
  {
   "cell_type": "code",
   "execution_count": 6,
   "metadata": {},
   "outputs": [
    {
     "data": {
      "text/plain": [
       "Request id            0.00\n",
       "Pickup point          0.00\n",
       "Driver id             0.00\n",
       "Status                0.00\n",
       "Request timestamp     0.00\n",
       "Drop timestamp       58.03\n",
       "dtype: float64"
      ]
     },
     "execution_count": 6,
     "metadata": {},
     "output_type": "execute_result"
    }
   ],
   "source": [
    "# check null rows in each column\n",
    "\n",
    "round(100*(uber.isnull().sum()/len(uber.index)), 2)"
   ]
  },
  {
   "cell_type": "code",
   "execution_count": 7,
   "metadata": {},
   "outputs": [
    {
     "data": {
      "text/plain": [
       "Request id           0.0\n",
       "Pickup point         0.0\n",
       "Driver id            0.0\n",
       "Status               0.0\n",
       "Request timestamp    0.0\n",
       "dtype: float64"
      ]
     },
     "execution_count": 7,
     "metadata": {},
     "output_type": "execute_result"
    }
   ],
   "source": [
    "# Remove Drop timestamp column as we will not be using it for any calculations. Hence safe to remove.\n",
    "\n",
    "uber = uber.drop(['Drop timestamp'], axis=1) \n",
    "round(100*(uber.isnull().sum()/len(uber.index)), 2)"
   ]
  },
  {
   "cell_type": "markdown",
   "metadata": {},
   "source": [
    "### Data Analysis ...\n",
    "\n",
    "    * Step 1 - Create a new column Request hour from the Request timestamp column.\n",
    "    * "
   ]
  },
  {
   "cell_type": "code",
   "execution_count": 8,
   "metadata": {},
   "outputs": [
    {
     "data": {
      "text/html": [
       "<div>\n",
       "<style scoped>\n",
       "    .dataframe tbody tr th:only-of-type {\n",
       "        vertical-align: middle;\n",
       "    }\n",
       "\n",
       "    .dataframe tbody tr th {\n",
       "        vertical-align: top;\n",
       "    }\n",
       "\n",
       "    .dataframe thead th {\n",
       "        text-align: right;\n",
       "    }\n",
       "</style>\n",
       "<table border=\"1\" class=\"dataframe\">\n",
       "  <thead>\n",
       "    <tr style=\"text-align: right;\">\n",
       "      <th></th>\n",
       "      <th>Request id</th>\n",
       "      <th>Pickup point</th>\n",
       "      <th>Driver id</th>\n",
       "      <th>Status</th>\n",
       "      <th>Request timestamp</th>\n",
       "      <th>Request hour</th>\n",
       "    </tr>\n",
       "  </thead>\n",
       "  <tbody>\n",
       "    <tr>\n",
       "      <th>0</th>\n",
       "      <td>619</td>\n",
       "      <td>Airport</td>\n",
       "      <td>1</td>\n",
       "      <td>Trip Completed</td>\n",
       "      <td>2016-07-11 11:51:00</td>\n",
       "      <td>11</td>\n",
       "    </tr>\n",
       "    <tr>\n",
       "      <th>1</th>\n",
       "      <td>867</td>\n",
       "      <td>Airport</td>\n",
       "      <td>1</td>\n",
       "      <td>Trip Completed</td>\n",
       "      <td>2016-07-11 17:57:00</td>\n",
       "      <td>17</td>\n",
       "    </tr>\n",
       "    <tr>\n",
       "      <th>2</th>\n",
       "      <td>1807</td>\n",
       "      <td>City</td>\n",
       "      <td>1</td>\n",
       "      <td>Trip Completed</td>\n",
       "      <td>2016-07-12 09:17:00</td>\n",
       "      <td>9</td>\n",
       "    </tr>\n",
       "    <tr>\n",
       "      <th>3</th>\n",
       "      <td>2532</td>\n",
       "      <td>Airport</td>\n",
       "      <td>1</td>\n",
       "      <td>Trip Completed</td>\n",
       "      <td>2016-07-12 21:08:00</td>\n",
       "      <td>21</td>\n",
       "    </tr>\n",
       "    <tr>\n",
       "      <th>4</th>\n",
       "      <td>3112</td>\n",
       "      <td>City</td>\n",
       "      <td>1</td>\n",
       "      <td>Trip Completed</td>\n",
       "      <td>2016-07-13 08:33:16</td>\n",
       "      <td>8</td>\n",
       "    </tr>\n",
       "  </tbody>\n",
       "</table>\n",
       "</div>"
      ],
      "text/plain": [
       "   Request id Pickup point  Driver id          Status   Request timestamp  \\\n",
       "0         619      Airport          1  Trip Completed 2016-07-11 11:51:00   \n",
       "1         867      Airport          1  Trip Completed 2016-07-11 17:57:00   \n",
       "2        1807         City          1  Trip Completed 2016-07-12 09:17:00   \n",
       "3        2532      Airport          1  Trip Completed 2016-07-12 21:08:00   \n",
       "4        3112         City          1  Trip Completed 2016-07-13 08:33:16   \n",
       "\n",
       "   Request hour  \n",
       "0            11  \n",
       "1            17  \n",
       "2             9  \n",
       "3            21  \n",
       "4             8  "
      ]
     },
     "execution_count": 8,
     "metadata": {},
     "output_type": "execute_result"
    }
   ],
   "source": [
    "# Create a new column called request hour from the request timestamp column\n",
    "\n",
    "uber['Request hour'] = uber['Request timestamp'].apply(lambda x: x.strftime('%H'))\n",
    "uber['Request hour'] =  uber['Request hour'].astype(int)\n",
    "#uber[\"Request hour\"] = uber['Request hour'].map(\"{:02}\".format)\n",
    "uber.head(5)"
   ]
  },
  {
   "cell_type": "code",
   "execution_count": 9,
   "metadata": {},
   "outputs": [
    {
     "data": {
      "text/html": [
       "<div>\n",
       "<style scoped>\n",
       "    .dataframe tbody tr th:only-of-type {\n",
       "        vertical-align: middle;\n",
       "    }\n",
       "\n",
       "    .dataframe tbody tr th {\n",
       "        vertical-align: top;\n",
       "    }\n",
       "\n",
       "    .dataframe thead th {\n",
       "        text-align: right;\n",
       "    }\n",
       "</style>\n",
       "<table border=\"1\" class=\"dataframe\">\n",
       "  <thead>\n",
       "    <tr style=\"text-align: right;\">\n",
       "      <th></th>\n",
       "      <th>Request id</th>\n",
       "      <th>Pickup point</th>\n",
       "      <th>Driver id</th>\n",
       "      <th>Status</th>\n",
       "      <th>Request timestamp</th>\n",
       "      <th>Request hour</th>\n",
       "      <th>Request timeslot</th>\n",
       "    </tr>\n",
       "  </thead>\n",
       "  <tbody>\n",
       "    <tr>\n",
       "      <th>0</th>\n",
       "      <td>619</td>\n",
       "      <td>Airport</td>\n",
       "      <td>1</td>\n",
       "      <td>Trip Completed</td>\n",
       "      <td>2016-07-11 11:51:00</td>\n",
       "      <td>11</td>\n",
       "      <td>Morning</td>\n",
       "    </tr>\n",
       "    <tr>\n",
       "      <th>1</th>\n",
       "      <td>867</td>\n",
       "      <td>Airport</td>\n",
       "      <td>1</td>\n",
       "      <td>Trip Completed</td>\n",
       "      <td>2016-07-11 17:57:00</td>\n",
       "      <td>17</td>\n",
       "      <td>Evening</td>\n",
       "    </tr>\n",
       "    <tr>\n",
       "      <th>2</th>\n",
       "      <td>1807</td>\n",
       "      <td>City</td>\n",
       "      <td>1</td>\n",
       "      <td>Trip Completed</td>\n",
       "      <td>2016-07-12 09:17:00</td>\n",
       "      <td>9</td>\n",
       "      <td>Morning</td>\n",
       "    </tr>\n",
       "    <tr>\n",
       "      <th>3</th>\n",
       "      <td>2532</td>\n",
       "      <td>Airport</td>\n",
       "      <td>1</td>\n",
       "      <td>Trip Completed</td>\n",
       "      <td>2016-07-12 21:08:00</td>\n",
       "      <td>21</td>\n",
       "      <td>Night</td>\n",
       "    </tr>\n",
       "    <tr>\n",
       "      <th>4</th>\n",
       "      <td>3112</td>\n",
       "      <td>City</td>\n",
       "      <td>1</td>\n",
       "      <td>Trip Completed</td>\n",
       "      <td>2016-07-13 08:33:16</td>\n",
       "      <td>8</td>\n",
       "      <td>Morning</td>\n",
       "    </tr>\n",
       "  </tbody>\n",
       "</table>\n",
       "</div>"
      ],
      "text/plain": [
       "   Request id Pickup point  Driver id          Status   Request timestamp  \\\n",
       "0         619      Airport          1  Trip Completed 2016-07-11 11:51:00   \n",
       "1         867      Airport          1  Trip Completed 2016-07-11 17:57:00   \n",
       "2        1807         City          1  Trip Completed 2016-07-12 09:17:00   \n",
       "3        2532      Airport          1  Trip Completed 2016-07-12 21:08:00   \n",
       "4        3112         City          1  Trip Completed 2016-07-13 08:33:16   \n",
       "\n",
       "   Request hour Request timeslot  \n",
       "0            11          Morning  \n",
       "1            17          Evening  \n",
       "2             9          Morning  \n",
       "3            21            Night  \n",
       "4             8          Morning  "
      ]
     },
     "execution_count": 9,
     "metadata": {},
     "output_type": "execute_result"
    }
   ],
   "source": [
    "# Create a new column from the hours column with the following assumptions\n",
    "# 4:00 Am to 7:59Am is early morning\n",
    "# 8:00 AM to 11:59 is Morning\n",
    "# 12:00 to 15:59 is lunch\n",
    "# 16:00 to 19:59 is evening\n",
    "# 20:00 to 23:59 is night\n",
    "# 24:00 to 3:59 AM is late night\n",
    "\n",
    "def timeslot(x):\n",
    "    if x >= 4 and x < 8:\n",
    "        return 'Early Morning'\n",
    "    elif x >= 8 and x < 12:\n",
    "        return 'Morning'\n",
    "    elif x >= 12 and x < 16:\n",
    "        return 'Afternoon'\n",
    "    elif x >= 16 and x < 20:\n",
    "        return 'Evening'\n",
    "    elif x >= 20:\n",
    "        return 'Night'\n",
    "    elif x >= 0 and x < 4:\n",
    "        return 'Late Night'\n",
    "    \n",
    "uber['Request timeslot'] = uber['Request hour'].apply(timeslot)\n",
    "uber.head(5)"
   ]
  },
  {
   "cell_type": "code",
   "execution_count": 10,
   "metadata": {},
   "outputs": [
    {
     "data": {
      "text/html": [
       "<div>\n",
       "<style scoped>\n",
       "    .dataframe tbody tr th:only-of-type {\n",
       "        vertical-align: middle;\n",
       "    }\n",
       "\n",
       "    .dataframe tbody tr th {\n",
       "        vertical-align: top;\n",
       "    }\n",
       "\n",
       "    .dataframe thead th {\n",
       "        text-align: right;\n",
       "    }\n",
       "</style>\n",
       "<table border=\"1\" class=\"dataframe\">\n",
       "  <thead>\n",
       "    <tr style=\"text-align: right;\">\n",
       "      <th></th>\n",
       "      <th>Request id</th>\n",
       "      <th>Pickup point</th>\n",
       "      <th>Driver id</th>\n",
       "      <th>Status</th>\n",
       "      <th>Request timestamp</th>\n",
       "      <th>Request hour</th>\n",
       "      <th>Request timeslot</th>\n",
       "      <th>Day</th>\n",
       "    </tr>\n",
       "  </thead>\n",
       "  <tbody>\n",
       "    <tr>\n",
       "      <th>0</th>\n",
       "      <td>619</td>\n",
       "      <td>Airport</td>\n",
       "      <td>1</td>\n",
       "      <td>Trip Completed</td>\n",
       "      <td>2016-07-11 11:51:00</td>\n",
       "      <td>11</td>\n",
       "      <td>Morning</td>\n",
       "      <td>Monday</td>\n",
       "    </tr>\n",
       "    <tr>\n",
       "      <th>1</th>\n",
       "      <td>867</td>\n",
       "      <td>Airport</td>\n",
       "      <td>1</td>\n",
       "      <td>Trip Completed</td>\n",
       "      <td>2016-07-11 17:57:00</td>\n",
       "      <td>17</td>\n",
       "      <td>Evening</td>\n",
       "      <td>Monday</td>\n",
       "    </tr>\n",
       "    <tr>\n",
       "      <th>2</th>\n",
       "      <td>1807</td>\n",
       "      <td>City</td>\n",
       "      <td>1</td>\n",
       "      <td>Trip Completed</td>\n",
       "      <td>2016-07-12 09:17:00</td>\n",
       "      <td>9</td>\n",
       "      <td>Morning</td>\n",
       "      <td>Tuesday</td>\n",
       "    </tr>\n",
       "    <tr>\n",
       "      <th>3</th>\n",
       "      <td>2532</td>\n",
       "      <td>Airport</td>\n",
       "      <td>1</td>\n",
       "      <td>Trip Completed</td>\n",
       "      <td>2016-07-12 21:08:00</td>\n",
       "      <td>21</td>\n",
       "      <td>Night</td>\n",
       "      <td>Tuesday</td>\n",
       "    </tr>\n",
       "    <tr>\n",
       "      <th>4</th>\n",
       "      <td>3112</td>\n",
       "      <td>City</td>\n",
       "      <td>1</td>\n",
       "      <td>Trip Completed</td>\n",
       "      <td>2016-07-13 08:33:16</td>\n",
       "      <td>8</td>\n",
       "      <td>Morning</td>\n",
       "      <td>Wednesday</td>\n",
       "    </tr>\n",
       "  </tbody>\n",
       "</table>\n",
       "</div>"
      ],
      "text/plain": [
       "   Request id Pickup point  Driver id          Status   Request timestamp  \\\n",
       "0         619      Airport          1  Trip Completed 2016-07-11 11:51:00   \n",
       "1         867      Airport          1  Trip Completed 2016-07-11 17:57:00   \n",
       "2        1807         City          1  Trip Completed 2016-07-12 09:17:00   \n",
       "3        2532      Airport          1  Trip Completed 2016-07-12 21:08:00   \n",
       "4        3112         City          1  Trip Completed 2016-07-13 08:33:16   \n",
       "\n",
       "   Request hour Request timeslot        Day  \n",
       "0            11          Morning     Monday  \n",
       "1            17          Evening     Monday  \n",
       "2             9          Morning    Tuesday  \n",
       "3            21            Night    Tuesday  \n",
       "4             8          Morning  Wednesday  "
      ]
     },
     "execution_count": 10,
     "metadata": {},
     "output_type": "execute_result"
    }
   ],
   "source": [
    "uber['Day'] = uber['Request timestamp'].dt.day_name()\n",
    "uber.head(5)"
   ]
  },
  {
   "cell_type": "code",
   "execution_count": 14,
   "metadata": {},
   "outputs": [
    {
     "data": {
      "image/png": "[encoded data removed]",
      "text/plain": [
       "<Figure size 324x360 with 1 Axes>"
      ]
     },
     "metadata": {},
     "output_type": "display_data"
    }
   ],
   "source": [
    "# Create plots to visualise the frequency of requests - Trips Completed, Cancelled and No Cars Available. \n",
    "# Count plots have been used to display count of requests for each of the Trip Status\n",
    "\n",
    "ax = sns.catplot(x=\"Status\", kind=\"count\", data=uber, palette=\"Set1\", edgecolor=\".9\", aspect= .9);\n",
    "\n",
    "plt.title('Frequency Of Requests for Trip Status', fontsize = 14)\n",
    "plt.ylabel(\"Request Frequency\", fontsize = 12)\n",
    "plt.xlabel(\"Trip Status\", fontsize = 12)\n",
    "\n",
    "ax1 = ax.facet_axis(0,0)\n",
    "for p in ax1.patches:\n",
    "    ax1.text(p.get_x() + p.get_width()/2., p.get_height(), p.get_height(), fontsize=12, color='black', ha='center', \n",
    "             va='bottom')\n",
    "\n",
    "plt.show()"
   ]
  },
  {
   "cell_type": "markdown",
   "metadata": {},
   "source": [
    "The above graph shows that among the trip status 'Cancelled' and 'No Cars Available', more number of requested cars are \n",
    "unavailable as opposed to cars cancelled by the driver"
   ]
  },
  {
   "cell_type": "code",
   "execution_count": 15,
   "metadata": {},
   "outputs": [
    {
     "data": {
      "image/png": "[encoded data removed]",
      "text/plain": [
       "<Figure size 476.25x360 with 1 Axes>"
      ]
     },
     "metadata": {},
     "output_type": "display_data"
    }
   ],
   "source": [
    "# Identify the trips originating from City and Airport for Trips Completed, Cancelled and No Cars Available\n",
    "\n",
    "ax = sns.catplot(x=\"Pickup point\", hue=\"Status\", palette='OrRd', kind=\"count\", data=uber);\n",
    "\n",
    "plt.title('Trip Analysis', fontsize = 14)\n",
    "plt.ylabel(\"Request Frequency\", fontsize = 12)\n",
    "plt.xlabel(\"Pickup Points\", fontsize = 12)\n",
    "\n",
    "ax1 = ax.facet_axis(0,0)\n",
    "for p in ax1.patches:\n",
    "    ax1.text(p.get_x() + p.get_width()/2., p.get_height(), p.get_height(), fontsize=12, color='black', ha='center', \n",
    "             va='bottom')\n",
    "\n",
    "plt.show()"
   ]
  },
  {
   "cell_type": "code",
   "execution_count": 16,
   "metadata": {},
   "outputs": [
    {
     "data": {
      "image/png": "[encoded data removed]",
      "text/plain": [
       "<Figure size 476.25x360 with 1 Axes>"
      ]
     },
     "metadata": {},
     "output_type": "display_data"
    }
   ],
   "source": [
    "# Identify the trips for days of week for Trips Completed, Cancelled and No Cars Available\n",
    "\n",
    "ax = sns.catplot(x=\"Day\", hue=\"Status\", palette='cubehelix', kind=\"count\", data=uber);\n",
    "\n",
    "plt.title('Trip Analysis Day wise', fontsize = 14)\n",
    "plt.ylabel(\"Request Frequency\", fontsize = 12)\n",
    "plt.xlabel(\"Week Day\", fontsize = 12)\n",
    "\n",
    "ax1 = ax.facet_axis(0,0)\n",
    "for p in ax1.patches:\n",
    "    ax1.text(p.get_x() + p.get_width()/2., p.get_height(), p.get_height(), fontsize=12, color='black', ha='center', \n",
    "             va='bottom')\n",
    "\n",
    "plt.show()"
   ]
  },
  {
   "cell_type": "markdown",
   "metadata": {},
   "source": [
    "Following observations can be made from the above graph :\n",
    "\n",
    " * In case of Trips Completed status, the demand is more for trips originating from city than the airport.\n",
    " * For Cancelled status, cancellation is more for trips originating from city as opposed to airport\n",
    " * For No Cars Available status, more number of cars are not available for trips originating from airport when compared to city.\n",
    " * For each of the week day there is much change in data \n"
   ]
  },
  {
   "cell_type": "code",
   "execution_count": 17,
   "metadata": {},
   "outputs": [
    {
     "data": {
      "image/png": "[encoded data removed]",
      "text/plain": [
       "<Figure size 605.625x360 with 1 Axes>"
      ]
     },
     "metadata": {},
     "output_type": "display_data"
    }
   ],
   "source": [
    "# Analyse the request frequency based on timeslots, from Airport and City for trips that were completed\n",
    "\n",
    "trip_completed_df = uber[(uber['Status'] == 'Trip Completed')]\n",
    "\n",
    "ax = sns.catplot(x=\"Request timeslot\", hue=\"Pickup point\", kind=\"count\", palette=\"BuGn_r\", edgecolor=\".9\", aspect=1.5, \n",
    "            data=trip_completed_df);\n",
    "plt.title('Trips Completed', fontsize = 14)\n",
    "plt.ylabel(\"Request Frequency\", fontsize = 12)\n",
    "plt.xlabel(\"Time Slots\", fontsize = 12)\n",
    "\n",
    "ax1 = ax.facet_axis(0,0)\n",
    "for p in ax1.patches:        \n",
    "    ax1.text(p.get_x() + p.get_width()/2., p.get_height(), p.get_height(), fontsize=12, color='blue', ha='center', va='bottom')\n",
    "\n",
    "plt.show()"
   ]
  },
  {
   "cell_type": "markdown",
   "metadata": {},
   "source": [
    "The above plot specifies that in case of completed trips, trips originating from city are more in number when compared to trips \n",
    "originating from airport. Request ferquencey of trips origination from City is more during the early morning followed by morning time slots."
   ]
  },
  {
   "cell_type": "code",
   "execution_count": 18,
   "metadata": {},
   "outputs": [
    {
     "data": {
      "image/png": "[encoded data removed]",
      "text/plain": [
       "<Figure size 605.625x360 with 1 Axes>"
      ]
     },
     "metadata": {},
     "output_type": "display_data"
    }
   ],
   "source": [
    "# Analyse the number of requests based on timeslots, from Airport and City for trips that were cancelled\n",
    "\n",
    "cancelled_df = uber[(uber['Status'] == 'Cancelled')]\n",
    "\n",
    "ax = sns.catplot(x=\"Request timeslot\", hue=\"Pickup point\", kind=\"count\", palette=\"BuGn_r\", edgecolor=\".9\", aspect=1.5, \n",
    "            data=cancelled_df);\n",
    "plt.title('Cancelled Trips', fontsize = 14)\n",
    "plt.ylabel(\"Request Frequency\", fontsize = 12)\n",
    "plt.xlabel(\"Time Slots\", fontsize = 12)\n",
    "\n",
    "ax1 = ax.facet_axis(0,0)\n",
    "for p in ax1.patches:\n",
    "    \n",
    "    if np.isnan(p.get_height()):\n",
    "        height = 0\n",
    "    else:\n",
    "        height = p.get_height()\n",
    "    \n",
    "    height = int(height)\n",
    "    ax1.text(p.get_x()+p.get_width()/2., height, height, fontsize=12, color='blue', ha='center', va='bottom')\n",
    "\n",
    "plt.show()"
   ]
  },
  {
   "cell_type": "markdown",
   "metadata": {},
   "source": [
    "Above graph shows that Maximum number of cancellations of trips originating from city happens during the hours of Early Morning. i.e., between 4:00 AM and 8:00 AM. Also no trips are cancelled from Airport during Late Night i.e., between 12 AM to 4 AM"
   ]
  },
  {
   "cell_type": "code",
   "execution_count": 19,
   "metadata": {},
   "outputs": [
    {
     "data": {
      "image/png": "[encoded data removed]",
      "text/plain": [
       "<Figure size 432x288 with 1 Axes>"
      ]
     },
     "metadata": {},
     "output_type": "display_data"
    }
   ],
   "source": [
    "# Analyse the hours when the maximum cars are unavailable during the evening slot\n",
    "early_morning_cancellation_df = cancelled_df[(cancelled_df['Request timeslot'] == 'Early Morning') ]\n",
    "\n",
    "plt.title('Trips cancelled between 4:00 AM and 8:00 AM')\n",
    "sns.distplot(early_morning_cancellation_df['Request hour'], hist=True)\n",
    "plt.show()"
   ]
  },
  {
   "cell_type": "code",
   "execution_count": 20,
   "metadata": {},
   "outputs": [
    {
     "data": {
      "image/png": "[encoded data removed]",
      "text/plain": [
       "<Figure size 605.625x360 with 1 Axes>"
      ]
     },
     "metadata": {},
     "output_type": "display_data"
    }
   ],
   "source": [
    "# Analyse the number of requests based on timeslots, from Airport and City when no cars are available\n",
    "\n",
    "no_cars_available_df = uber[(uber['Status'] == 'No Cars Available')]\n",
    "\n",
    "ax = sns.catplot(x=\"Request timeslot\", hue=\"Pickup point\", kind=\"count\", palette=\"BuGn_r\", edgecolor=\".9\", aspect = 1.5, \n",
    "            data=no_cars_available_df)\n",
    "plt.title('No Cars Available', fontsize = 14)\n",
    "plt.ylabel('Request Frequency', fontsize = 12)\n",
    "plt.xlabel('Time Slots', fontsize = 12)\n",
    "\n",
    "ax1 = ax.facet_axis(0,0)\n",
    "for p in ax1.patches:        \n",
    "    ax1.text(p.get_x() + p.get_width()/2., p.get_height(), p.get_height(), fontsize=12, color='blue', ha='center', va='bottom')\n",
    "\n",
    "plt.show()"
   ]
  },
  {
   "cell_type": "markdown",
   "metadata": {},
   "source": [
    "The above graph shows that maximum number of cars are not available during the evening from airport ie 4:00 PM to 8:00 PM"
   ]
  },
  {
   "cell_type": "code",
   "execution_count": 22,
   "metadata": {},
   "outputs": [
    {
     "data": {
      "image/png": "[encoded data removed]",
      "text/plain": [
       "<Figure size 432x288 with 1 Axes>"
      ]
     },
     "metadata": {},
     "output_type": "display_data"
    }
   ],
   "source": [
    "# Identify the hours when the maximum cars are unavailable during the evening slot\n",
    "\n",
    "evening_unavailable_cars_df = no_cars_available_df[(no_cars_available_df['Request timeslot'] == 'Evening') ]\n",
    "\n",
    "plt.title('Trips cancelled between 4:00 PM and 8:00 PM')\n",
    "sns.distplot(evening_unavailable_cars_df['Request hour'], hist=True)\n",
    "plt.show()"
   ]
  },
  {
   "cell_type": "markdown",
   "metadata": {},
   "source": [
    "##### Supply demand gap can be calculated as follows :\n",
    "    - Demand = Number of cars requested\n",
    "    - Supply = Cars that completed the trips.\n",
    "    - Supply Demand Gap = Cancelled cars plus unavailable cars"
   ]
  },
  {
   "cell_type": "code",
   "execution_count": 25,
   "metadata": {},
   "outputs": [
    {
     "data": {
      "text/html": [
       "<div>\n",
       "<style scoped>\n",
       "    .dataframe tbody tr th:only-of-type {\n",
       "        vertical-align: middle;\n",
       "    }\n",
       "\n",
       "    .dataframe tbody tr th {\n",
       "        vertical-align: top;\n",
       "    }\n",
       "\n",
       "    .dataframe thead th {\n",
       "        text-align: right;\n",
       "    }\n",
       "</style>\n",
       "<table border=\"1\" class=\"dataframe\">\n",
       "  <thead>\n",
       "    <tr style=\"text-align: right;\">\n",
       "      <th></th>\n",
       "      <th>Request id</th>\n",
       "      <th>Pickup point</th>\n",
       "      <th>Driver id</th>\n",
       "      <th>Status</th>\n",
       "      <th>Request timestamp</th>\n",
       "      <th>Request hour</th>\n",
       "      <th>Request timeslot</th>\n",
       "      <th>Day</th>\n",
       "      <th>Supply demand gap</th>\n",
       "    </tr>\n",
       "  </thead>\n",
       "  <tbody>\n",
       "    <tr>\n",
       "      <th>0</th>\n",
       "      <td>619</td>\n",
       "      <td>Airport</td>\n",
       "      <td>1</td>\n",
       "      <td>Trip Completed</td>\n",
       "      <td>2016-07-11 11:51:00</td>\n",
       "      <td>11</td>\n",
       "      <td>Morning</td>\n",
       "      <td>Monday</td>\n",
       "      <td>Supply</td>\n",
       "    </tr>\n",
       "    <tr>\n",
       "      <th>1</th>\n",
       "      <td>867</td>\n",
       "      <td>Airport</td>\n",
       "      <td>1</td>\n",
       "      <td>Trip Completed</td>\n",
       "      <td>2016-07-11 17:57:00</td>\n",
       "      <td>17</td>\n",
       "      <td>Evening</td>\n",
       "      <td>Monday</td>\n",
       "      <td>Supply</td>\n",
       "    </tr>\n",
       "    <tr>\n",
       "      <th>2</th>\n",
       "      <td>1807</td>\n",
       "      <td>City</td>\n",
       "      <td>1</td>\n",
       "      <td>Trip Completed</td>\n",
       "      <td>2016-07-12 09:17:00</td>\n",
       "      <td>9</td>\n",
       "      <td>Morning</td>\n",
       "      <td>Tuesday</td>\n",
       "      <td>Supply</td>\n",
       "    </tr>\n",
       "    <tr>\n",
       "      <th>3</th>\n",
       "      <td>2532</td>\n",
       "      <td>Airport</td>\n",
       "      <td>1</td>\n",
       "      <td>Trip Completed</td>\n",
       "      <td>2016-07-12 21:08:00</td>\n",
       "      <td>21</td>\n",
       "      <td>Night</td>\n",
       "      <td>Tuesday</td>\n",
       "      <td>Supply</td>\n",
       "    </tr>\n",
       "    <tr>\n",
       "      <th>4</th>\n",
       "      <td>3112</td>\n",
       "      <td>City</td>\n",
       "      <td>1</td>\n",
       "      <td>Trip Completed</td>\n",
       "      <td>2016-07-13 08:33:16</td>\n",
       "      <td>8</td>\n",
       "      <td>Morning</td>\n",
       "      <td>Wednesday</td>\n",
       "      <td>Supply</td>\n",
       "    </tr>\n",
       "  </tbody>\n",
       "</table>\n",
       "</div>"
      ],
      "text/plain": [
       "   Request id Pickup point  Driver id          Status   Request timestamp  \\\n",
       "0         619      Airport          1  Trip Completed 2016-07-11 11:51:00   \n",
       "1         867      Airport          1  Trip Completed 2016-07-11 17:57:00   \n",
       "2        1807         City          1  Trip Completed 2016-07-12 09:17:00   \n",
       "3        2532      Airport          1  Trip Completed 2016-07-12 21:08:00   \n",
       "4        3112         City          1  Trip Completed 2016-07-13 08:33:16   \n",
       "\n",
       "   Request hour Request timeslot        Day Supply demand gap  \n",
       "0            11          Morning     Monday            Supply  \n",
       "1            17          Evening     Monday            Supply  \n",
       "2             9          Morning    Tuesday            Supply  \n",
       "3            21            Night    Tuesday            Supply  \n",
       "4             8          Morning  Wednesday            Supply  "
      ]
     },
     "execution_count": 25,
     "metadata": {},
     "output_type": "execute_result"
    }
   ],
   "source": [
    "# Create a new column to determine supply vs supply demand gap\n",
    "\n",
    "def setSupplyorSupplyDemandGap(x):\n",
    "    if x == 'Trip Completed':\n",
    "        return 'Supply'\n",
    "    else:\n",
    "        return 'Supply Demand Gap'\n",
    "    \n",
    "uber['Supply demand gap'] = uber['Status'].apply(setSupplyorSupplyDemandGap)\n",
    "uber.head()"
   ]
  },
  {
   "cell_type": "code",
   "execution_count": 26,
   "metadata": {},
   "outputs": [
    {
     "data": {
      "image/png": "[encoded data removed]",
      "text/plain": [
       "<Figure size 1080x360 with 2 Axes>"
      ]
     },
     "metadata": {},
     "output_type": "display_data"
    }
   ],
   "source": [
    "# Plot that specifies the demand for cabs from airport and city\n",
    "\n",
    "ax = sns.catplot(x='Request timeslot', col=\"Pickup point\", kind=\"count\", palette=\"YlOrRd\", edgecolor=\".9\", aspect = 1.5, \n",
    "          data=uber)\n",
    "ax.fig.suptitle('Demand for cabs originating from airport and city', fontsize=14)\n",
    "ax.set_xlabels('Time Slots', fontsize=12)\n",
    "ax.set_ylabels('Request Frequency', fontsize=12)\n",
    "\n",
    "for i in np.arange(2):\n",
    "    ax1 = ax.facet_axis(0,i)\n",
    "    for p in ax1.patches:\n",
    "        ax1.text(p.get_x() + p.get_width()/2., p.get_height(), p.get_height(), fontsize=12, color='blue', ha='center', \n",
    "                 va='bottom')\n",
    "\n",
    "plt.show()"
   ]
  },
  {
   "cell_type": "code",
   "execution_count": 27,
   "metadata": {},
   "outputs": [
    {
     "data": {
      "image/png": "[encoded data removed]",
      "text/plain": [
       "<Figure size 1280.75x288 with 2 Axes>"
      ]
     },
     "metadata": {},
     "output_type": "display_data"
    }
   ],
   "source": [
    "# Identify the supply and demand gap for trips originating from Ariport and City\n",
    "\n",
    "\n",
    "plot = sns.catplot(x=\"Request timeslot\", hue=\"Supply demand gap\", col = 'Pickup point', data=uber, palette='coolwarm', \n",
    "            kind=\"count\", height=4, aspect = 2.0);\n",
    "\n",
    "plot.fig.suptitle('Supply Demand Gap', fontsize=14)\n",
    "plot.set_xlabels('Request Timeslot', fontsize=12)\n",
    "plot.set_ylabels('Supply Demand Gap Frequency', fontsize=12)\n",
    "\n",
    "for i in np.arange(2):\n",
    "    ax1 = plot.facet_axis(0,i)\n",
    "    for p in ax1.patches:\n",
    "        ax1.text(p.get_x() + p.get_width()/2., p.get_height(), p.get_height(), fontsize=12, color='blue', ha='center', \n",
    "                 va='bottom')\n",
    "        \n",
    "plt.show()"
   ]
  },
  {
   "cell_type": "markdown",
   "metadata": {},
   "source": [
    "###### The above plot shows the following :\n",
    "    \n",
    "    - Supply Demap Gap is more in the Evening (4:00 PM to 8:00 PM) for trips originating from Airport \n",
    "    - Supply Demap Gap is more in the Early Morning (4:00 AM to 8:00 AM) for trips originating from City "
   ]
  },
  {
   "cell_type": "code",
   "execution_count": 28,
   "metadata": {},
   "outputs": [
    {
     "data": {
      "image/png": "[encoded data removed]",
      "text/plain": [
       "<Figure size 497.625x288 with 1 Axes>"
      ]
     },
     "metadata": {},
     "output_type": "display_data"
    }
   ],
   "source": [
    "# Identify the types of requests (city-airport or airport-city) for which the gap is the most severe in the identified time slots\n",
    "\n",
    "most_severe_gap_df = uber[((uber['Request timeslot'] == 'Evening') | (uber['Request timeslot'] == 'Early Morning')) & (uber['Supply demand gap'] == 'Supply Demand Gap')] \n",
    "\n",
    "plot = sns.catplot(x=\"Request hour\", hue=\"Pickup point\", data=most_severe_gap_df, kind=\"count\", \n",
    "            height=4, aspect = 1.5)\n",
    "\n",
    "plot.fig.suptitle('Demand for cabs originating from airport and city', fontsize=12)\n",
    "plot.set_xlabels('Request Hour', fontsize=12)\n",
    "plot.set_ylabels('Supply Demand Gap Frequency', fontsize=12)\n",
    "\n",
    "ax1 = plot.facet_axis(0,0)\n",
    "for p in ax1.patches:\n",
    "    ax1.text(p.get_x() + p.get_width()/2., p.get_height(), p.get_height(), fontsize=11, color='red', ha='center', va='bottom')\n",
    "\n",
    "#sns.distplot(y = most_severe_gap_df['Request hour'])\n",
    "plt.show()"
   ]
  },
  {
   "cell_type": "markdown",
   "metadata": {},
   "source": [
    "The above plot shows that the most severe supply demand gap is for the trip request from Airport - City."
   ]
  },
  {
   "cell_type": "code",
   "execution_count": null,
   "metadata": {},
   "outputs": [],
   "source": [
    "uber.to_csv()"
   ]
  }
 ],
 "metadata": {
  "kernelspec": {
   "display_name": "Python 3",
   "language": "python",
   "name": "python3"
  },
  "language_info": {
   "codemirror_mode": {
    "name": "ipython",
    "version": 3
   },
   "file_extension": ".py",
   "mimetype": "text/x-python",
   "name": "python",
   "nbconvert_exporter": "python",
   "pygments_lexer": "ipython3",
   "version": "3.7.0"
  }
 },
 "nbformat": 4,
 "nbformat_minor": 2
}
